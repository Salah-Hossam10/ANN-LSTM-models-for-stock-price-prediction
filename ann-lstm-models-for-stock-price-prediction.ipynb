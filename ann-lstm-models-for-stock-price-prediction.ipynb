{
 "cells": [
  {
   "cell_type": "code",
   "execution_count": 1,
   "id": "eaad1ac4",
   "metadata": {
    "_cell_guid": "b1076dfc-b9ad-4769-8c92-a6c4dae69d19",
    "_uuid": "8f2839f25d086af736a60e9eeb907d3b93b6e0e5",
    "execution": {
     "iopub.execute_input": "2024-10-11T04:41:31.608771Z",
     "iopub.status.busy": "2024-10-11T04:41:31.608154Z",
     "iopub.status.idle": "2024-10-11T04:41:32.661529Z",
     "shell.execute_reply": "2024-10-11T04:41:32.660094Z"
    },
    "papermill": {
     "duration": 1.068238,
     "end_time": "2024-10-11T04:41:32.664537",
     "exception": false,
     "start_time": "2024-10-11T04:41:31.596299",
     "status": "completed"
    },
    "tags": []
   },
   "outputs": [],
   "source": [
    "# This Python 3 environment comes with many helpful analytics libraries installed\n",
    "# It is defined by the kaggle/python Docker image: https://github.com/kaggle/docker-python\n",
    "# For example, here's several helpful packages to load\n",
    "\n",
    "import numpy as np # linear algebra\n",
    "import pandas as pd # data processing, CSV file I/O (e.g. pd.read_csv)\n",
    "\n",
    "# Input data files are available in the read-only \"../input/\" directory\n",
    "# For example, running this (by clicking run or pressing Shift+Enter) will list all files under the input directory\n",
    "\n",
    "import os\n",
    "for dirname, _, filenames in os.walk('/kaggle/input'):\n",
    "    for filename in filenames:\n",
    "        print(os.path.join(dirname, filename))\n",
    "\n",
    "# You can write up to 20GB to the current directory (/kaggle/working/) that gets preserved as output when you create a version using \"Save & Run All\" \n",
    "# You can also write temporary files to /kaggle/temp/, but they won't be saved outside of the current session"
   ]
  },
  {
   "cell_type": "code",
   "execution_count": 2,
   "id": "bee1d71d",
   "metadata": {
    "execution": {
     "iopub.execute_input": "2024-10-11T04:41:32.685402Z",
     "iopub.status.busy": "2024-10-11T04:41:32.684780Z",
     "iopub.status.idle": "2024-10-11T04:42:57.461165Z",
     "shell.execute_reply": "2024-10-11T04:42:57.459568Z"
    },
    "papermill": {
     "duration": 84.790153,
     "end_time": "2024-10-11T04:42:57.464223",
     "exception": false,
     "start_time": "2024-10-11T04:41:32.674070",
     "status": "completed"
    },
    "tags": []
   },
   "outputs": [
    {
     "name": "stdout",
     "output_type": "stream",
     "text": [
      "Retrieving notices: ...working... done\r\n",
      "Channels:\r\n",
      " - rapidsai\r\n",
      " - nvidia\r\n",
      " - nodefaults\r\n",
      " - conda-forge\r\n",
      " - defaults\r\n",
      "Platform: linux-64\r\n",
      "Collecting package metadata (repodata.json): \\ \b\b| \b\b/ \b\b- \b\b\\ \b\b| \b\b/ \b\b- \b\b\\ \b\b| \b\b/ \b\b- \b\b\\ \b\b| \b\b/ \b\b- \b\b\\ \b\b| \b\b/ \b\b- \b\b\\ \b\b| \b\b/ \b\b- \b\b\\ \b\b| \b\b/ \b\b- \b\b\\ \b\b| \b\b/ \b\b- \b\b\\ \b\b| \b\b/ \b\b- \b\b\\ \b\b| \b\b/ \b\b- \b\b\\ \b\b| \b\b/ \b\b- \b\b\\ \b\b| \b\b/ \b\b- \b\b\\ \b\b| \b\b/ \b\b- \b\b\\ \b\b| \b\b/ \b\b- \b\b\\ \b\b| \b\b/ \b\b- \b\b\\ \b\b| \b\b/ \b\b- \b\b\\ \b\b| \b\b/ \b\b- \b\b\\ \b\b| \b\b/ \b\b- \b\b\\ \b\b| \b\b/ \b\b- \b\b\\ \b\b| \b\b/ \b\b- \b\b\\ \b\b| \b\b/ \b\b- \b\b\\ \b\b| \b\bdone\r\n",
      "Solving environment: - \b\b\\ \b\b| \b\b/ \b\b- \b\b\\ \b\b| \b\b/ \b\b- \b\b\\ \b\b| \b\b/ \b\b- \b\b\\ \b\b| \b\b/ \b\b- \b\b\\ \b\b| \b\bdone\r\n",
      "\r\n",
      "## Package Plan ##\r\n",
      "\r\n",
      "  environment location: /opt/conda\r\n",
      "\r\n",
      "  added / updated specs:\r\n",
      "    - gdown\r\n",
      "\r\n",
      "\r\n",
      "The following packages will be downloaded:\r\n",
      "\r\n",
      "    package                    |            build\r\n",
      "    ---------------------------|-----------------\r\n",
      "    conda-24.9.1               |  py310hff52083_0         894 KB  conda-forge\r\n",
      "    filelock-3.16.1            |     pyhd8ed1ab_0          17 KB  conda-forge\r\n",
      "    gdown-5.2.0                |     pyhd8ed1ab_0          21 KB  conda-forge\r\n",
      "    ------------------------------------------------------------\r\n",
      "                                           Total:         932 KB\r\n",
      "\r\n",
      "The following NEW packages will be INSTALLED:\r\n",
      "\r\n",
      "  filelock           conda-forge/noarch::filelock-3.16.1-pyhd8ed1ab_0 \r\n",
      "  gdown              conda-forge/noarch::gdown-5.2.0-pyhd8ed1ab_0 \r\n",
      "\r\n",
      "The following packages will be UPDATED:\r\n",
      "\r\n",
      "  conda                              24.9.0-py310hff52083_0 --> 24.9.1-py310hff52083_0 \r\n",
      "\r\n",
      "\r\n",
      "\r\n",
      "Downloading and Extracting Packages:\r\n",
      "conda-24.9.1         | 894 KB    |                                       |   0% \r\n",
      "gdown-5.2.0          | 21 KB     |                                       |   0% \u001b[A\r\n",
      "\r\n",
      "conda-24.9.1         | 894 KB    | #####2                                |  14% \r\n",
      "gdown-5.2.0          | 21 KB     | ##################################### | 100% \u001b[A\r\n",
      "gdown-5.2.0          | 21 KB     | ##################################### | 100% \u001b[A\r\n",
      "\r\n",
      "filelock-3.16.1      | 17 KB     | ##################################### | 100% \u001b[A\u001b[A\r\n",
      "\r\n",
      "\r\n",
      "                                                                                \u001b[A\r\n",
      "\r\n",
      "\r\n",
      "Preparing transaction: - \b\bdone\r\n",
      "Verifying transaction: | \b\b/ \b\bdone\r\n",
      "Executing transaction: \\ \b\b| \b\b/ \b\b- \b\b\\ \b\b| \b\b/ \b\b- \b\b\\ \b\b| \b\b/ \b\b- \b\b\\ \b\b| \b\b/ \b\b- \b\b\\ \b\b| \b\b/ \b\b- \b\b\\ \b\b| \b\b/ \b\b- \b\b\\ \b\b| \b\b/ \b\b- \b\b\\ \b\b| \b\b/ \b\b- \b\b\\ \b\b| \b\b/ \b\b- \b\b\\ \b\b| \b\b/ \b\b- \b\b\\ \b\b| \b\b/ \b\b- \b\b\\ \b\b| \b\b/ \b\b- \b\b\\ \b\b| \b\b/ \b\b- \b\b\\ \b\b| \b\b/ \b\b- \b\b\\ \b\b| \b\b/ \b\b- \b\bdone\r\n"
     ]
    }
   ],
   "source": [
    "! conda install -y gdown"
   ]
  },
  {
   "cell_type": "code",
   "execution_count": 3,
   "id": "78d9ef42",
   "metadata": {
    "execution": {
     "iopub.execute_input": "2024-10-11T04:42:57.522682Z",
     "iopub.status.busy": "2024-10-11T04:42:57.521740Z",
     "iopub.status.idle": "2024-10-11T04:43:03.092546Z",
     "shell.execute_reply": "2024-10-11T04:43:03.091024Z"
    },
    "papermill": {
     "duration": 5.605431,
     "end_time": "2024-10-11T04:43:03.095838",
     "exception": false,
     "start_time": "2024-10-11T04:42:57.490407",
     "status": "completed"
    },
    "tags": []
   },
   "outputs": [
    {
     "name": "stdout",
     "output_type": "stream",
     "text": [
      "/opt/conda/lib/python3.10/site-packages/gdown/__main__.py:140: FutureWarning: Option `--id` was deprecated in version 4.3.1 and will be removed in 5.0. You don't need to pass it anymore to use a file ID.\r\n",
      "  warnings.warn(\r\n",
      "Downloading...\r\n",
      "From: https://drive.google.com/uc?id=1qzxDtizk4HqHC87cUkeNDqXq8FiWPGbp\r\n",
      "To: /kaggle/working/NETFLIX.zip\r\n",
      "100%|██████████████████████████████████████| 21.4k/21.4k [00:00<00:00, 36.5MB/s]\r\n"
     ]
    }
   ],
   "source": [
    "!gdown --id 1qzxDtizk4HqHC87cUkeNDqXq8FiWPGbp"
   ]
  },
  {
   "cell_type": "code",
   "execution_count": 4,
   "id": "a6c4085d",
   "metadata": {
    "execution": {
     "iopub.execute_input": "2024-10-11T04:43:03.150121Z",
     "iopub.status.busy": "2024-10-11T04:43:03.149627Z",
     "iopub.status.idle": "2024-10-11T04:43:03.159680Z",
     "shell.execute_reply": "2024-10-11T04:43:03.158466Z"
    },
    "papermill": {
     "duration": 0.040896,
     "end_time": "2024-10-11T04:43:03.162815",
     "exception": false,
     "start_time": "2024-10-11T04:43:03.121919",
     "status": "completed"
    },
    "tags": []
   },
   "outputs": [],
   "source": [
    "import zipfile\n",
    "z= zipfile.ZipFile('NETFLIX.zip')\n",
    "z.extractall()"
   ]
  },
  {
   "cell_type": "code",
   "execution_count": 5,
   "id": "a9816bd4",
   "metadata": {
    "execution": {
     "iopub.execute_input": "2024-10-11T04:43:03.217431Z",
     "iopub.status.busy": "2024-10-11T04:43:03.216937Z",
     "iopub.status.idle": "2024-10-11T04:43:19.868396Z",
     "shell.execute_reply": "2024-10-11T04:43:19.867235Z"
    },
    "papermill": {
     "duration": 16.682423,
     "end_time": "2024-10-11T04:43:19.871382",
     "exception": false,
     "start_time": "2024-10-11T04:43:03.188959",
     "status": "completed"
    },
    "tags": []
   },
   "outputs": [],
   "source": [
    "import pandas as pd\n",
    "import numpy as np\n",
    "from sklearn.preprocessing import MinMaxScaler\n",
    "from sklearn.metrics import r2_score,mean_squared_error\n",
    "import matplotlib.pyplot as plt\n",
    "from tensorflow.keras.models import Sequential\n",
    "from tensorflow.keras.layers import Dense, LSTM,Dropout,BatchNormalization,Input\n",
    "from tensorflow.keras.callbacks import EarlyStopping,ModelCheckpoint,ReduceLROnPlateau\n",
    "from sklearn.model_selection import train_test_split\n",
    "from tensorflow.keras.regularizers import l1_l2\n",
    "from tensorflow.keras.optimizers import Adam\n",
    "from tensorflow.keras.regularizers import l2"
   ]
  },
  {
   "cell_type": "code",
   "execution_count": 6,
   "id": "56906f01",
   "metadata": {
    "execution": {
     "iopub.execute_input": "2024-10-11T04:43:19.925849Z",
     "iopub.status.busy": "2024-10-11T04:43:19.925104Z",
     "iopub.status.idle": "2024-10-11T04:43:19.940301Z",
     "shell.execute_reply": "2024-10-11T04:43:19.939055Z"
    },
    "papermill": {
     "duration": 0.045249,
     "end_time": "2024-10-11T04:43:19.943430",
     "exception": false,
     "start_time": "2024-10-11T04:43:19.898181",
     "status": "completed"
    },
    "tags": []
   },
   "outputs": [],
   "source": [
    "df = pd.read_csv('/kaggle/working/NFLX.csv')  # Replace with your file path"
   ]
  },
  {
   "cell_type": "code",
   "execution_count": 7,
   "id": "7e71c329",
   "metadata": {
    "execution": {
     "iopub.execute_input": "2024-10-11T04:43:19.997273Z",
     "iopub.status.busy": "2024-10-11T04:43:19.996801Z",
     "iopub.status.idle": "2024-10-11T04:43:20.018849Z",
     "shell.execute_reply": "2024-10-11T04:43:20.017290Z"
    },
    "papermill": {
     "duration": 0.052961,
     "end_time": "2024-10-11T04:43:20.021817",
     "exception": false,
     "start_time": "2024-10-11T04:43:19.968856",
     "status": "completed"
    },
    "tags": []
   },
   "outputs": [],
   "source": [
    "df['Date'] = pd.to_datetime(df['Date'])\n",
    "df = df.set_index('Date')\n",
    "data = df['Adj Close'].values.reshape(-1, 1)"
   ]
  },
  {
   "cell_type": "code",
   "execution_count": 8,
   "id": "57239fdc",
   "metadata": {
    "execution": {
     "iopub.execute_input": "2024-10-11T04:43:20.073970Z",
     "iopub.status.busy": "2024-10-11T04:43:20.073490Z",
     "iopub.status.idle": "2024-10-11T04:43:20.082247Z",
     "shell.execute_reply": "2024-10-11T04:43:20.081006Z"
    },
    "papermill": {
     "duration": 0.03837,
     "end_time": "2024-10-11T04:43:20.085210",
     "exception": false,
     "start_time": "2024-10-11T04:43:20.046840",
     "status": "completed"
    },
    "tags": []
   },
   "outputs": [],
   "source": [
    "# Scale the data\n",
    "scaler = MinMaxScaler(feature_range=(0, 1))\n",
    "scaled_data = scaler.fit_transform(data)"
   ]
  },
  {
   "cell_type": "code",
   "execution_count": 9,
   "id": "ebdc652b",
   "metadata": {
    "execution": {
     "iopub.execute_input": "2024-10-11T04:43:20.137926Z",
     "iopub.status.busy": "2024-10-11T04:43:20.137453Z",
     "iopub.status.idle": "2024-10-11T04:43:20.148530Z",
     "shell.execute_reply": "2024-10-11T04:43:20.147505Z"
    },
    "papermill": {
     "duration": 0.040683,
     "end_time": "2024-10-11T04:43:20.151181",
     "exception": false,
     "start_time": "2024-10-11T04:43:20.110498",
     "status": "completed"
    },
    "tags": []
   },
   "outputs": [],
   "source": [
    "seq_length = 60\n",
    "X, y = [], []\n",
    "for i in range(len(scaled_data) - seq_length):\n",
    "    X.append(scaled_data[i:(i + seq_length)])\n",
    "    y.append(scaled_data[i + seq_length])\n",
    "\n",
    "X = np.array(X)\n",
    "y = np.array(y)"
   ]
  },
  {
   "cell_type": "code",
   "execution_count": 10,
   "id": "10c993a4",
   "metadata": {
    "execution": {
     "iopub.execute_input": "2024-10-11T04:43:20.204431Z",
     "iopub.status.busy": "2024-10-11T04:43:20.203584Z",
     "iopub.status.idle": "2024-10-11T04:43:20.210055Z",
     "shell.execute_reply": "2024-10-11T04:43:20.208871Z"
    },
    "papermill": {
     "duration": 0.035949,
     "end_time": "2024-10-11T04:43:20.212680",
     "exception": false,
     "start_time": "2024-10-11T04:43:20.176731",
     "status": "completed"
    },
    "tags": []
   },
   "outputs": [],
   "source": [
    "# Split data into train and test sets\n",
    "train_size = int(len(X) * 0.85)\n",
    "X_train, X_test = X[:train_size], X[train_size:]\n",
    "y_train, y_test = y[:train_size], y[train_size:]"
   ]
  },
  {
   "cell_type": "code",
   "execution_count": 11,
   "id": "c849894d",
   "metadata": {
    "execution": {
     "iopub.execute_input": "2024-10-11T04:43:20.267371Z",
     "iopub.status.busy": "2024-10-11T04:43:20.266869Z",
     "iopub.status.idle": "2024-10-11T04:43:20.273288Z",
     "shell.execute_reply": "2024-10-11T04:43:20.271807Z"
    },
    "papermill": {
     "duration": 0.037667,
     "end_time": "2024-10-11T04:43:20.275888",
     "exception": false,
     "start_time": "2024-10-11T04:43:20.238221",
     "status": "completed"
    },
    "tags": []
   },
   "outputs": [],
   "source": [
    "# Prepare data for ANN (flattened input)\n",
    "X_train_ann = X_train.reshape(X_train.shape[0], X_train.shape[1])\n",
    "X_test_ann = X_test.reshape(X_test.shape[0], X_test.shape[1])"
   ]
  },
  {
   "cell_type": "code",
   "execution_count": 12,
   "id": "be9c3ade",
   "metadata": {
    "execution": {
     "iopub.execute_input": "2024-10-11T04:43:20.329193Z",
     "iopub.status.busy": "2024-10-11T04:43:20.327849Z",
     "iopub.status.idle": "2024-10-11T04:43:20.500418Z",
     "shell.execute_reply": "2024-10-11T04:43:20.499146Z"
    },
    "papermill": {
     "duration": 0.202093,
     "end_time": "2024-10-11T04:43:20.503022",
     "exception": false,
     "start_time": "2024-10-11T04:43:20.300929",
     "status": "completed"
    },
    "tags": []
   },
   "outputs": [
    {
     "name": "stderr",
     "output_type": "stream",
     "text": [
      "/opt/conda/lib/python3.10/site-packages/keras/src/layers/rnn/rnn.py:204: UserWarning: Do not pass an `input_shape`/`input_dim` argument to a layer. When using Sequential models, prefer using an `Input(shape)` object as the first layer in the model instead.\n",
      "  super().__init__(**kwargs)\n"
     ]
    }
   ],
   "source": [
    "# Create and train a more complex LSTM model\n",
    "lstm_model = Sequential([\n",
    "        LSTM(64, activation='tanh', input_shape=(seq_length, 1), \n",
    "             return_sequences=True, \n",
    "             kernel_regularizer=l1_l2(l1=1e-5, l2=1e-4)),\n",
    "        Dropout(0.2),\n",
    "        LSTM(32, activation='tanh', \n",
    "             kernel_regularizer=l1_l2(l1=1e-5, l2=1e-4)),\n",
    "        Dropout(0.2),\n",
    "        Dense(16, activation='relu', \n",
    "              kernel_regularizer=l1_l2(l1=1e-5, l2=1e-4)),\n",
    "        Dense(1)\n",
    "    ])"
   ]
  },
  {
   "cell_type": "code",
   "execution_count": 13,
   "id": "b860bdf2",
   "metadata": {
    "execution": {
     "iopub.execute_input": "2024-10-11T04:43:20.555713Z",
     "iopub.status.busy": "2024-10-11T04:43:20.555231Z",
     "iopub.status.idle": "2024-10-11T04:43:20.573097Z",
     "shell.execute_reply": "2024-10-11T04:43:20.571776Z"
    },
    "papermill": {
     "duration": 0.04793,
     "end_time": "2024-10-11T04:43:20.576338",
     "exception": false,
     "start_time": "2024-10-11T04:43:20.528408",
     "status": "completed"
    },
    "tags": []
   },
   "outputs": [],
   "source": [
    "lstm_model.compile(optimizer='adam', loss='huber')  # Using Huber loss instead of MSE"
   ]
  },
  {
   "cell_type": "code",
   "execution_count": 14,
   "id": "bf16b05d",
   "metadata": {
    "execution": {
     "iopub.execute_input": "2024-10-11T04:43:20.629231Z",
     "iopub.status.busy": "2024-10-11T04:43:20.628763Z",
     "iopub.status.idle": "2024-10-11T04:46:07.322549Z",
     "shell.execute_reply": "2024-10-11T04:46:07.321298Z"
    },
    "papermill": {
     "duration": 166.723325,
     "end_time": "2024-10-11T04:46:07.325431",
     "exception": false,
     "start_time": "2024-10-11T04:43:20.602106",
     "status": "completed"
    },
    "tags": []
   },
   "outputs": [
    {
     "name": "stdout",
     "output_type": "stream",
     "text": [
      "Epoch 1/200\n",
      "\u001b[1m21/21\u001b[0m \u001b[32m━━━━━━━━━━━━━━━━━━━━\u001b[0m\u001b[37m\u001b[0m \u001b[1m6s\u001b[0m 81ms/step - loss: 0.0440 - val_loss: 0.0342\n",
      "Epoch 2/200\n",
      "\u001b[1m21/21\u001b[0m \u001b[32m━━━━━━━━━━━━━━━━━━━━\u001b[0m\u001b[37m\u001b[0m \u001b[1m1s\u001b[0m 57ms/step - loss: 0.0198 - val_loss: 0.0185\n",
      "Epoch 3/200\n",
      "\u001b[1m21/21\u001b[0m \u001b[32m━━━━━━━━━━━━━━━━━━━━\u001b[0m\u001b[37m\u001b[0m \u001b[1m1s\u001b[0m 55ms/step - loss: 0.0166 - val_loss: 0.0137\n",
      "Epoch 4/200\n",
      "\u001b[1m21/21\u001b[0m \u001b[32m━━━━━━━━━━━━━━━━━━━━\u001b[0m\u001b[37m\u001b[0m \u001b[1m1s\u001b[0m 55ms/step - loss: 0.0134 - val_loss: 0.0114\n",
      "Epoch 5/200\n",
      "\u001b[1m21/21\u001b[0m \u001b[32m━━━━━━━━━━━━━━━━━━━━\u001b[0m\u001b[37m\u001b[0m \u001b[1m1s\u001b[0m 55ms/step - loss: 0.0116 - val_loss: 0.0099\n",
      "Epoch 6/200\n",
      "\u001b[1m21/21\u001b[0m \u001b[32m━━━━━━━━━━━━━━━━━━━━\u001b[0m\u001b[37m\u001b[0m \u001b[1m1s\u001b[0m 56ms/step - loss: 0.0105 - val_loss: 0.0089\n",
      "Epoch 7/200\n",
      "\u001b[1m21/21\u001b[0m \u001b[32m━━━━━━━━━━━━━━━━━━━━\u001b[0m\u001b[37m\u001b[0m \u001b[1m1s\u001b[0m 56ms/step - loss: 0.0092 - val_loss: 0.0085\n",
      "Epoch 8/200\n",
      "\u001b[1m21/21\u001b[0m \u001b[32m━━━━━━━━━━━━━━━━━━━━\u001b[0m\u001b[37m\u001b[0m \u001b[1m1s\u001b[0m 57ms/step - loss: 0.0083 - val_loss: 0.0071\n",
      "Epoch 9/200\n",
      "\u001b[1m21/21\u001b[0m \u001b[32m━━━━━━━━━━━━━━━━━━━━\u001b[0m\u001b[37m\u001b[0m \u001b[1m1s\u001b[0m 55ms/step - loss: 0.0075 - val_loss: 0.0065\n",
      "Epoch 10/200\n",
      "\u001b[1m21/21\u001b[0m \u001b[32m━━━━━━━━━━━━━━━━━━━━\u001b[0m\u001b[37m\u001b[0m \u001b[1m1s\u001b[0m 54ms/step - loss: 0.0071 - val_loss: 0.0066\n",
      "Epoch 11/200\n",
      "\u001b[1m21/21\u001b[0m \u001b[32m━━━━━━━━━━━━━━━━━━━━\u001b[0m\u001b[37m\u001b[0m \u001b[1m1s\u001b[0m 56ms/step - loss: 0.0065 - val_loss: 0.0057\n",
      "Epoch 12/200\n",
      "\u001b[1m21/21\u001b[0m \u001b[32m━━━━━━━━━━━━━━━━━━━━\u001b[0m\u001b[37m\u001b[0m \u001b[1m1s\u001b[0m 55ms/step - loss: 0.0060 - val_loss: 0.0054\n",
      "Epoch 13/200\n",
      "\u001b[1m21/21\u001b[0m \u001b[32m━━━━━━━━━━━━━━━━━━━━\u001b[0m\u001b[37m\u001b[0m \u001b[1m1s\u001b[0m 54ms/step - loss: 0.0056 - val_loss: 0.0057\n",
      "Epoch 14/200\n",
      "\u001b[1m21/21\u001b[0m \u001b[32m━━━━━━━━━━━━━━━━━━━━\u001b[0m\u001b[37m\u001b[0m \u001b[1m1s\u001b[0m 57ms/step - loss: 0.0056 - val_loss: 0.0049\n",
      "Epoch 15/200\n",
      "\u001b[1m21/21\u001b[0m \u001b[32m━━━━━━━━━━━━━━━━━━━━\u001b[0m\u001b[37m\u001b[0m \u001b[1m1s\u001b[0m 54ms/step - loss: 0.0055 - val_loss: 0.0058\n",
      "Epoch 16/200\n",
      "\u001b[1m21/21\u001b[0m \u001b[32m━━━━━━━━━━━━━━━━━━━━\u001b[0m\u001b[37m\u001b[0m \u001b[1m1s\u001b[0m 58ms/step - loss: 0.0050 - val_loss: 0.0045\n",
      "Epoch 17/200\n",
      "\u001b[1m21/21\u001b[0m \u001b[32m━━━━━━━━━━━━━━━━━━━━\u001b[0m\u001b[37m\u001b[0m \u001b[1m1s\u001b[0m 54ms/step - loss: 0.0049 - val_loss: 0.0047\n",
      "Epoch 18/200\n",
      "\u001b[1m21/21\u001b[0m \u001b[32m━━━━━━━━━━━━━━━━━━━━\u001b[0m\u001b[37m\u001b[0m \u001b[1m1s\u001b[0m 55ms/step - loss: 0.0046 - val_loss: 0.0042\n",
      "Epoch 19/200\n",
      "\u001b[1m21/21\u001b[0m \u001b[32m━━━━━━━━━━━━━━━━━━━━\u001b[0m\u001b[37m\u001b[0m \u001b[1m1s\u001b[0m 57ms/step - loss: 0.0044 - val_loss: 0.0042\n",
      "Epoch 20/200\n",
      "\u001b[1m21/21\u001b[0m \u001b[32m━━━━━━━━━━━━━━━━━━━━\u001b[0m\u001b[37m\u001b[0m \u001b[1m1s\u001b[0m 54ms/step - loss: 0.0042 - val_loss: 0.0043\n",
      "Epoch 21/200\n",
      "\u001b[1m21/21\u001b[0m \u001b[32m━━━━━━━━━━━━━━━━━━━━\u001b[0m\u001b[37m\u001b[0m \u001b[1m1s\u001b[0m 54ms/step - loss: 0.0044 - val_loss: 0.0046\n",
      "Epoch 22/200\n",
      "\u001b[1m21/21\u001b[0m \u001b[32m━━━━━━━━━━━━━━━━━━━━\u001b[0m\u001b[37m\u001b[0m \u001b[1m1s\u001b[0m 57ms/step - loss: 0.0040 - val_loss: 0.0036\n",
      "Epoch 23/200\n",
      "\u001b[1m21/21\u001b[0m \u001b[32m━━━━━━━━━━━━━━━━━━━━\u001b[0m\u001b[37m\u001b[0m \u001b[1m1s\u001b[0m 54ms/step - loss: 0.0038 - val_loss: 0.0046\n",
      "Epoch 24/200\n",
      "\u001b[1m21/21\u001b[0m \u001b[32m━━━━━━━━━━━━━━━━━━━━\u001b[0m\u001b[37m\u001b[0m \u001b[1m1s\u001b[0m 58ms/step - loss: 0.0038 - val_loss: 0.0035\n",
      "Epoch 25/200\n",
      "\u001b[1m21/21\u001b[0m \u001b[32m━━━━━━━━━━━━━━━━━━━━\u001b[0m\u001b[37m\u001b[0m \u001b[1m1s\u001b[0m 58ms/step - loss: 0.0035 - val_loss: 0.0035\n",
      "Epoch 26/200\n",
      "\u001b[1m21/21\u001b[0m \u001b[32m━━━━━━━━━━━━━━━━━━━━\u001b[0m\u001b[37m\u001b[0m \u001b[1m1s\u001b[0m 57ms/step - loss: 0.0035 - val_loss: 0.0034\n",
      "Epoch 27/200\n",
      "\u001b[1m21/21\u001b[0m \u001b[32m━━━━━━━━━━━━━━━━━━━━\u001b[0m\u001b[37m\u001b[0m \u001b[1m1s\u001b[0m 58ms/step - loss: 0.0037 - val_loss: 0.0033\n",
      "Epoch 28/200\n",
      "\u001b[1m21/21\u001b[0m \u001b[32m━━━━━━━━━━━━━━━━━━━━\u001b[0m\u001b[37m\u001b[0m \u001b[1m1s\u001b[0m 56ms/step - loss: 0.0033 - val_loss: 0.0029\n",
      "Epoch 29/200\n",
      "\u001b[1m21/21\u001b[0m \u001b[32m━━━━━━━━━━━━━━━━━━━━\u001b[0m\u001b[37m\u001b[0m \u001b[1m1s\u001b[0m 54ms/step - loss: 0.0032 - val_loss: 0.0030\n",
      "Epoch 30/200\n",
      "\u001b[1m21/21\u001b[0m \u001b[32m━━━━━━━━━━━━━━━━━━━━\u001b[0m\u001b[37m\u001b[0m \u001b[1m1s\u001b[0m 55ms/step - loss: 0.0032 - val_loss: 0.0028\n",
      "Epoch 31/200\n",
      "\u001b[1m21/21\u001b[0m \u001b[32m━━━━━━━━━━━━━━━━━━━━\u001b[0m\u001b[37m\u001b[0m \u001b[1m1s\u001b[0m 54ms/step - loss: 0.0032 - val_loss: 0.0031\n",
      "Epoch 32/200\n",
      "\u001b[1m21/21\u001b[0m \u001b[32m━━━━━━━━━━━━━━━━━━━━\u001b[0m\u001b[37m\u001b[0m \u001b[1m1s\u001b[0m 56ms/step - loss: 0.0031 - val_loss: 0.0026\n",
      "Epoch 33/200\n",
      "\u001b[1m21/21\u001b[0m \u001b[32m━━━━━━━━━━━━━━━━━━━━\u001b[0m\u001b[37m\u001b[0m \u001b[1m1s\u001b[0m 57ms/step - loss: 0.0028 - val_loss: 0.0026\n",
      "Epoch 34/200\n",
      "\u001b[1m21/21\u001b[0m \u001b[32m━━━━━━━━━━━━━━━━━━━━\u001b[0m\u001b[37m\u001b[0m \u001b[1m1s\u001b[0m 55ms/step - loss: 0.0029 - val_loss: 0.0025\n",
      "Epoch 35/200\n",
      "\u001b[1m21/21\u001b[0m \u001b[32m━━━━━━━━━━━━━━━━━━━━\u001b[0m\u001b[37m\u001b[0m \u001b[1m1s\u001b[0m 55ms/step - loss: 0.0028 - val_loss: 0.0029\n",
      "Epoch 36/200\n",
      "\u001b[1m21/21\u001b[0m \u001b[32m━━━━━━━━━━━━━━━━━━━━\u001b[0m\u001b[37m\u001b[0m \u001b[1m1s\u001b[0m 56ms/step - loss: 0.0026 - val_loss: 0.0024\n",
      "Epoch 37/200\n",
      "\u001b[1m21/21\u001b[0m \u001b[32m━━━━━━━━━━━━━━━━━━━━\u001b[0m\u001b[37m\u001b[0m \u001b[1m1s\u001b[0m 54ms/step - loss: 0.0028 - val_loss: 0.0029\n",
      "Epoch 38/200\n",
      "\u001b[1m21/21\u001b[0m \u001b[32m━━━━━━━━━━━━━━━━━━━━\u001b[0m\u001b[37m\u001b[0m \u001b[1m1s\u001b[0m 54ms/step - loss: 0.0026 - val_loss: 0.0027\n",
      "Epoch 39/200\n",
      "\u001b[1m21/21\u001b[0m \u001b[32m━━━━━━━━━━━━━━━━━━━━\u001b[0m\u001b[37m\u001b[0m \u001b[1m1s\u001b[0m 55ms/step - loss: 0.0024 - val_loss: 0.0023\n",
      "Epoch 40/200\n",
      "\u001b[1m21/21\u001b[0m \u001b[32m━━━━━━━━━━━━━━━━━━━━\u001b[0m\u001b[37m\u001b[0m \u001b[1m1s\u001b[0m 54ms/step - loss: 0.0024 - val_loss: 0.0023\n",
      "Epoch 41/200\n",
      "\u001b[1m21/21\u001b[0m \u001b[32m━━━━━━━━━━━━━━━━━━━━\u001b[0m\u001b[37m\u001b[0m \u001b[1m1s\u001b[0m 56ms/step - loss: 0.0025 - val_loss: 0.0022\n",
      "Epoch 42/200\n",
      "\u001b[1m21/21\u001b[0m \u001b[32m━━━━━━━━━━━━━━━━━━━━\u001b[0m\u001b[37m\u001b[0m \u001b[1m1s\u001b[0m 55ms/step - loss: 0.0025 - val_loss: 0.0021\n",
      "Epoch 43/200\n",
      "\u001b[1m21/21\u001b[0m \u001b[32m━━━━━━━━━━━━━━━━━━━━\u001b[0m\u001b[37m\u001b[0m \u001b[1m1s\u001b[0m 54ms/step - loss: 0.0023 - val_loss: 0.0023\n",
      "Epoch 44/200\n",
      "\u001b[1m21/21\u001b[0m \u001b[32m━━━━━━━━━━━━━━━━━━━━\u001b[0m\u001b[37m\u001b[0m \u001b[1m1s\u001b[0m 57ms/step - loss: 0.0022 - val_loss: 0.0020\n",
      "Epoch 45/200\n",
      "\u001b[1m21/21\u001b[0m \u001b[32m━━━━━━━━━━━━━━━━━━━━\u001b[0m\u001b[37m\u001b[0m \u001b[1m1s\u001b[0m 56ms/step - loss: 0.0023 - val_loss: 0.0020\n",
      "Epoch 46/200\n",
      "\u001b[1m21/21\u001b[0m \u001b[32m━━━━━━━━━━━━━━━━━━━━\u001b[0m\u001b[37m\u001b[0m \u001b[1m1s\u001b[0m 55ms/step - loss: 0.0022 - val_loss: 0.0020\n",
      "Epoch 47/200\n",
      "\u001b[1m21/21\u001b[0m \u001b[32m━━━━━━━━━━━━━━━━━━━━\u001b[0m\u001b[37m\u001b[0m \u001b[1m1s\u001b[0m 56ms/step - loss: 0.0021 - val_loss: 0.0019\n",
      "Epoch 48/200\n",
      "\u001b[1m21/21\u001b[0m \u001b[32m━━━━━━━━━━━━━━━━━━━━\u001b[0m\u001b[37m\u001b[0m \u001b[1m1s\u001b[0m 56ms/step - loss: 0.0021 - val_loss: 0.0021\n",
      "Epoch 49/200\n",
      "\u001b[1m21/21\u001b[0m \u001b[32m━━━━━━━━━━━━━━━━━━━━\u001b[0m\u001b[37m\u001b[0m \u001b[1m1s\u001b[0m 57ms/step - loss: 0.0021 - val_loss: 0.0027\n",
      "Epoch 50/200\n",
      "\u001b[1m21/21\u001b[0m \u001b[32m━━━━━━━━━━━━━━━━━━━━\u001b[0m\u001b[37m\u001b[0m \u001b[1m1s\u001b[0m 59ms/step - loss: 0.0021 - val_loss: 0.0018\n",
      "Epoch 51/200\n",
      "\u001b[1m21/21\u001b[0m \u001b[32m━━━━━━━━━━━━━━━━━━━━\u001b[0m\u001b[37m\u001b[0m \u001b[1m1s\u001b[0m 58ms/step - loss: 0.0020 - val_loss: 0.0018\n",
      "Epoch 52/200\n",
      "\u001b[1m21/21\u001b[0m \u001b[32m━━━━━━━━━━━━━━━━━━━━\u001b[0m\u001b[37m\u001b[0m \u001b[1m1s\u001b[0m 60ms/step - loss: 0.0020 - val_loss: 0.0018\n",
      "Epoch 53/200\n",
      "\u001b[1m21/21\u001b[0m \u001b[32m━━━━━━━━━━━━━━━━━━━━\u001b[0m\u001b[37m\u001b[0m \u001b[1m1s\u001b[0m 58ms/step - loss: 0.0020 - val_loss: 0.0017\n",
      "Epoch 54/200\n",
      "\u001b[1m21/21\u001b[0m \u001b[32m━━━━━━━━━━━━━━━━━━━━\u001b[0m\u001b[37m\u001b[0m \u001b[1m1s\u001b[0m 57ms/step - loss: 0.0020 - val_loss: 0.0017\n",
      "Epoch 55/200\n",
      "\u001b[1m21/21\u001b[0m \u001b[32m━━━━━━━━━━━━━━━━━━━━\u001b[0m\u001b[37m\u001b[0m \u001b[1m1s\u001b[0m 55ms/step - loss: 0.0019 - val_loss: 0.0019\n",
      "Epoch 56/200\n",
      "\u001b[1m21/21\u001b[0m \u001b[32m━━━━━━━━━━━━━━━━━━━━\u001b[0m\u001b[37m\u001b[0m \u001b[1m1s\u001b[0m 57ms/step - loss: 0.0019 - val_loss: 0.0021\n",
      "Epoch 57/200\n",
      "\u001b[1m21/21\u001b[0m \u001b[32m━━━━━━━━━━━━━━━━━━━━\u001b[0m\u001b[37m\u001b[0m \u001b[1m1s\u001b[0m 58ms/step - loss: 0.0018 - val_loss: 0.0031\n",
      "Epoch 58/200\n",
      "\u001b[1m21/21\u001b[0m \u001b[32m━━━━━━━━━━━━━━━━━━━━\u001b[0m\u001b[37m\u001b[0m \u001b[1m1s\u001b[0m 60ms/step - loss: 0.0020 - val_loss: 0.0017\n",
      "Epoch 59/200\n",
      "\u001b[1m21/21\u001b[0m \u001b[32m━━━━━━━━━━━━━━━━━━━━\u001b[0m\u001b[37m\u001b[0m \u001b[1m1s\u001b[0m 56ms/step - loss: 0.0018 - val_loss: 0.0020\n",
      "Epoch 60/200\n",
      "\u001b[1m21/21\u001b[0m \u001b[32m━━━━━━━━━━━━━━━━━━━━\u001b[0m\u001b[37m\u001b[0m \u001b[1m1s\u001b[0m 56ms/step - loss: 0.0019 - val_loss: 0.0021\n",
      "Epoch 61/200\n",
      "\u001b[1m21/21\u001b[0m \u001b[32m━━━━━━━━━━━━━━━━━━━━\u001b[0m\u001b[37m\u001b[0m \u001b[1m1s\u001b[0m 56ms/step - loss: 0.0018 - val_loss: 0.0016\n",
      "Epoch 62/200\n",
      "\u001b[1m21/21\u001b[0m \u001b[32m━━━━━━━━━━━━━━━━━━━━\u001b[0m\u001b[37m\u001b[0m \u001b[1m1s\u001b[0m 53ms/step - loss: 0.0017 - val_loss: 0.0019\n",
      "Epoch 63/200\n",
      "\u001b[1m21/21\u001b[0m \u001b[32m━━━━━━━━━━━━━━━━━━━━\u001b[0m\u001b[37m\u001b[0m \u001b[1m1s\u001b[0m 55ms/step - loss: 0.0017 - val_loss: 0.0016\n",
      "Epoch 64/200\n",
      "\u001b[1m21/21\u001b[0m \u001b[32m━━━━━━━━━━━━━━━━━━━━\u001b[0m\u001b[37m\u001b[0m \u001b[1m1s\u001b[0m 58ms/step - loss: 0.0018 - val_loss: 0.0015\n",
      "Epoch 65/200\n",
      "\u001b[1m21/21\u001b[0m \u001b[32m━━━━━━━━━━━━━━━━━━━━\u001b[0m\u001b[37m\u001b[0m \u001b[1m1s\u001b[0m 56ms/step - loss: 0.0017 - val_loss: 0.0023\n",
      "Epoch 66/200\n",
      "\u001b[1m21/21\u001b[0m \u001b[32m━━━━━━━━━━━━━━━━━━━━\u001b[0m\u001b[37m\u001b[0m \u001b[1m1s\u001b[0m 56ms/step - loss: 0.0017 - val_loss: 0.0016\n",
      "Epoch 67/200\n",
      "\u001b[1m21/21\u001b[0m \u001b[32m━━━━━━━━━━━━━━━━━━━━\u001b[0m\u001b[37m\u001b[0m \u001b[1m1s\u001b[0m 55ms/step - loss: 0.0017 - val_loss: 0.0015\n",
      "Epoch 68/200\n",
      "\u001b[1m21/21\u001b[0m \u001b[32m━━━━━━━━━━━━━━━━━━━━\u001b[0m\u001b[37m\u001b[0m \u001b[1m1s\u001b[0m 55ms/step - loss: 0.0017 - val_loss: 0.0015\n",
      "Epoch 69/200\n",
      "\u001b[1m21/21\u001b[0m \u001b[32m━━━━━━━━━━━━━━━━━━━━\u001b[0m\u001b[37m\u001b[0m \u001b[1m1s\u001b[0m 57ms/step - loss: 0.0018 - val_loss: 0.0015\n",
      "Epoch 70/200\n",
      "\u001b[1m21/21\u001b[0m \u001b[32m━━━━━━━━━━━━━━━━━━━━\u001b[0m\u001b[37m\u001b[0m \u001b[1m1s\u001b[0m 56ms/step - loss: 0.0017 - val_loss: 0.0019\n",
      "Epoch 71/200\n",
      "\u001b[1m21/21\u001b[0m \u001b[32m━━━━━━━━━━━━━━━━━━━━\u001b[0m\u001b[37m\u001b[0m \u001b[1m1s\u001b[0m 56ms/step - loss: 0.0018 - val_loss: 0.0023\n",
      "Epoch 72/200\n",
      "\u001b[1m21/21\u001b[0m \u001b[32m━━━━━━━━━━━━━━━━━━━━\u001b[0m\u001b[37m\u001b[0m \u001b[1m1s\u001b[0m 59ms/step - loss: 0.0017 - val_loss: 0.0015\n",
      "Epoch 73/200\n",
      "\u001b[1m21/21\u001b[0m \u001b[32m━━━━━━━━━━━━━━━━━━━━\u001b[0m\u001b[37m\u001b[0m \u001b[1m1s\u001b[0m 61ms/step - loss: 0.0016 - val_loss: 0.0014\n",
      "Epoch 74/200\n",
      "\u001b[1m21/21\u001b[0m \u001b[32m━━━━━━━━━━━━━━━━━━━━\u001b[0m\u001b[37m\u001b[0m \u001b[1m1s\u001b[0m 60ms/step - loss: 0.0017 - val_loss: 0.0016\n",
      "Epoch 75/200\n",
      "\u001b[1m21/21\u001b[0m \u001b[32m━━━━━━━━━━━━━━━━━━━━\u001b[0m\u001b[37m\u001b[0m \u001b[1m1s\u001b[0m 54ms/step - loss: 0.0016 - val_loss: 0.0015\n",
      "Epoch 76/200\n",
      "\u001b[1m21/21\u001b[0m \u001b[32m━━━━━━━━━━━━━━━━━━━━\u001b[0m\u001b[37m\u001b[0m \u001b[1m1s\u001b[0m 56ms/step - loss: 0.0017 - val_loss: 0.0016\n",
      "Epoch 77/200\n",
      "\u001b[1m21/21\u001b[0m \u001b[32m━━━━━━━━━━━━━━━━━━━━\u001b[0m\u001b[37m\u001b[0m \u001b[1m1s\u001b[0m 56ms/step - loss: 0.0017 - val_loss: 0.0015\n",
      "Epoch 78/200\n",
      "\u001b[1m21/21\u001b[0m \u001b[32m━━━━━━━━━━━━━━━━━━━━\u001b[0m\u001b[37m\u001b[0m \u001b[1m1s\u001b[0m 53ms/step - loss: 0.0015 - val_loss: 0.0019\n",
      "Epoch 79/200\n",
      "\u001b[1m21/21\u001b[0m \u001b[32m━━━━━━━━━━━━━━━━━━━━\u001b[0m\u001b[37m\u001b[0m \u001b[1m1s\u001b[0m 59ms/step - loss: 0.0016 - val_loss: 0.0014\n",
      "Epoch 80/200\n",
      "\u001b[1m21/21\u001b[0m \u001b[32m━━━━━━━━━━━━━━━━━━━━\u001b[0m\u001b[37m\u001b[0m \u001b[1m1s\u001b[0m 61ms/step - loss: 0.0016 - val_loss: 0.0018\n",
      "Epoch 81/200\n",
      "\u001b[1m21/21\u001b[0m \u001b[32m━━━━━━━━━━━━━━━━━━━━\u001b[0m\u001b[37m\u001b[0m \u001b[1m3s\u001b[0m 59ms/step - loss: 0.0015 - val_loss: 0.0025\n",
      "Epoch 82/200\n",
      "\u001b[1m21/21\u001b[0m \u001b[32m━━━━━━━━━━━━━━━━━━━━\u001b[0m\u001b[37m\u001b[0m \u001b[1m1s\u001b[0m 57ms/step - loss: 0.0015 - val_loss: 0.0016\n",
      "Epoch 83/200\n",
      "\u001b[1m21/21\u001b[0m \u001b[32m━━━━━━━━━━━━━━━━━━━━\u001b[0m\u001b[37m\u001b[0m \u001b[1m1s\u001b[0m 55ms/step - loss: 0.0015 - val_loss: 0.0019\n",
      "Epoch 84/200\n",
      "\u001b[1m21/21\u001b[0m \u001b[32m━━━━━━━━━━━━━━━━━━━━\u001b[0m\u001b[37m\u001b[0m \u001b[1m1s\u001b[0m 58ms/step - loss: 0.0016 - val_loss: 0.0017\n",
      "Epoch 85/200\n",
      "\u001b[1m21/21\u001b[0m \u001b[32m━━━━━━━━━━━━━━━━━━━━\u001b[0m\u001b[37m\u001b[0m \u001b[1m1s\u001b[0m 55ms/step - loss: 0.0016 - val_loss: 0.0013\n",
      "Epoch 86/200\n",
      "\u001b[1m21/21\u001b[0m \u001b[32m━━━━━━━━━━━━━━━━━━━━\u001b[0m\u001b[37m\u001b[0m \u001b[1m1s\u001b[0m 54ms/step - loss: 0.0014 - val_loss: 0.0015\n",
      "Epoch 87/200\n",
      "\u001b[1m21/21\u001b[0m \u001b[32m━━━━━━━━━━━━━━━━━━━━\u001b[0m\u001b[37m\u001b[0m \u001b[1m1s\u001b[0m 56ms/step - loss: 0.0014 - val_loss: 0.0014\n",
      "Epoch 88/200\n",
      "\u001b[1m21/21\u001b[0m \u001b[32m━━━━━━━━━━━━━━━━━━━━\u001b[0m\u001b[37m\u001b[0m \u001b[1m1s\u001b[0m 57ms/step - loss: 0.0015 - val_loss: 0.0015\n",
      "Epoch 89/200\n",
      "\u001b[1m21/21\u001b[0m \u001b[32m━━━━━━━━━━━━━━━━━━━━\u001b[0m\u001b[37m\u001b[0m \u001b[1m1s\u001b[0m 54ms/step - loss: 0.0016 - val_loss: 0.0013\n",
      "Epoch 90/200\n",
      "\u001b[1m21/21\u001b[0m \u001b[32m━━━━━━━━━━━━━━━━━━━━\u001b[0m\u001b[37m\u001b[0m \u001b[1m1s\u001b[0m 60ms/step - loss: 0.0015 - val_loss: 0.0017\n",
      "Epoch 91/200\n",
      "\u001b[1m21/21\u001b[0m \u001b[32m━━━━━━━━━━━━━━━━━━━━\u001b[0m\u001b[37m\u001b[0m \u001b[1m1s\u001b[0m 55ms/step - loss: 0.0016 - val_loss: 0.0014\n",
      "Epoch 92/200\n",
      "\u001b[1m21/21\u001b[0m \u001b[32m━━━━━━━━━━━━━━━━━━━━\u001b[0m\u001b[37m\u001b[0m \u001b[1m1s\u001b[0m 55ms/step - loss: 0.0015 - val_loss: 0.0016\n",
      "Epoch 93/200\n",
      "\u001b[1m21/21\u001b[0m \u001b[32m━━━━━━━━━━━━━━━━━━━━\u001b[0m\u001b[37m\u001b[0m \u001b[1m1s\u001b[0m 57ms/step - loss: 0.0015 - val_loss: 0.0013\n",
      "Epoch 94/200\n",
      "\u001b[1m21/21\u001b[0m \u001b[32m━━━━━━━━━━━━━━━━━━━━\u001b[0m\u001b[37m\u001b[0m \u001b[1m1s\u001b[0m 60ms/step - loss: 0.0014 - val_loss: 0.0012\n",
      "Epoch 95/200\n",
      "\u001b[1m21/21\u001b[0m \u001b[32m━━━━━━━━━━━━━━━━━━━━\u001b[0m\u001b[37m\u001b[0m \u001b[1m1s\u001b[0m 58ms/step - loss: 0.0014 - val_loss: 0.0021\n",
      "Epoch 96/200\n",
      "\u001b[1m21/21\u001b[0m \u001b[32m━━━━━━━━━━━━━━━━━━━━\u001b[0m\u001b[37m\u001b[0m \u001b[1m1s\u001b[0m 65ms/step - loss: 0.0013 - val_loss: 0.0013\n",
      "Epoch 97/200\n",
      "\u001b[1m21/21\u001b[0m \u001b[32m━━━━━━━━━━━━━━━━━━━━\u001b[0m\u001b[37m\u001b[0m \u001b[1m1s\u001b[0m 63ms/step - loss: 0.0015 - val_loss: 0.0014\n",
      "Epoch 98/200\n",
      "\u001b[1m21/21\u001b[0m \u001b[32m━━━━━━━━━━━━━━━━━━━━\u001b[0m\u001b[37m\u001b[0m \u001b[1m1s\u001b[0m 68ms/step - loss: 0.0013 - val_loss: 0.0020\n",
      "Epoch 99/200\n",
      "\u001b[1m21/21\u001b[0m \u001b[32m━━━━━━━━━━━━━━━━━━━━\u001b[0m\u001b[37m\u001b[0m \u001b[1m1s\u001b[0m 59ms/step - loss: 0.0014 - val_loss: 0.0012\n",
      "Epoch 100/200\n",
      "\u001b[1m21/21\u001b[0m \u001b[32m━━━━━━━━━━━━━━━━━━━━\u001b[0m\u001b[37m\u001b[0m \u001b[1m1s\u001b[0m 59ms/step - loss: 0.0014 - val_loss: 0.0018\n",
      "Epoch 101/200\n",
      "\u001b[1m21/21\u001b[0m \u001b[32m━━━━━━━━━━━━━━━━━━━━\u001b[0m\u001b[37m\u001b[0m \u001b[1m1s\u001b[0m 59ms/step - loss: 0.0013 - val_loss: 0.0012\n",
      "Epoch 102/200\n",
      "\u001b[1m21/21\u001b[0m \u001b[32m━━━━━━━━━━━━━━━━━━━━\u001b[0m\u001b[37m\u001b[0m \u001b[1m1s\u001b[0m 61ms/step - loss: 0.0015 - val_loss: 0.0012\n",
      "Epoch 103/200\n",
      "\u001b[1m21/21\u001b[0m \u001b[32m━━━━━━━━━━━━━━━━━━━━\u001b[0m\u001b[37m\u001b[0m \u001b[1m1s\u001b[0m 57ms/step - loss: 0.0013 - val_loss: 0.0014\n",
      "Epoch 104/200\n",
      "\u001b[1m21/21\u001b[0m \u001b[32m━━━━━━━━━━━━━━━━━━━━\u001b[0m\u001b[37m\u001b[0m \u001b[1m1s\u001b[0m 62ms/step - loss: 0.0013 - val_loss: 0.0017\n",
      "Epoch 105/200\n",
      "\u001b[1m21/21\u001b[0m \u001b[32m━━━━━━━━━━━━━━━━━━━━\u001b[0m\u001b[37m\u001b[0m \u001b[1m2s\u001b[0m 59ms/step - loss: 0.0013 - val_loss: 0.0013\n",
      "Epoch 106/200\n",
      "\u001b[1m21/21\u001b[0m \u001b[32m━━━━━━━━━━━━━━━━━━━━\u001b[0m\u001b[37m\u001b[0m \u001b[1m1s\u001b[0m 55ms/step - loss: 0.0013 - val_loss: 0.0018\n",
      "Epoch 107/200\n",
      "\u001b[1m21/21\u001b[0m \u001b[32m━━━━━━━━━━━━━━━━━━━━\u001b[0m\u001b[37m\u001b[0m \u001b[1m1s\u001b[0m 58ms/step - loss: 0.0013 - val_loss: 0.0015\n",
      "Epoch 108/200\n",
      "\u001b[1m21/21\u001b[0m \u001b[32m━━━━━━━━━━━━━━━━━━━━\u001b[0m\u001b[37m\u001b[0m \u001b[1m1s\u001b[0m 54ms/step - loss: 0.0013 - val_loss: 0.0017\n",
      "Epoch 109/200\n",
      "\u001b[1m21/21\u001b[0m \u001b[32m━━━━━━━━━━━━━━━━━━━━\u001b[0m\u001b[37m\u001b[0m \u001b[1m1s\u001b[0m 58ms/step - loss: 0.0014 - val_loss: 0.0012\n",
      "Epoch 110/200\n",
      "\u001b[1m21/21\u001b[0m \u001b[32m━━━━━━━━━━━━━━━━━━━━\u001b[0m\u001b[37m\u001b[0m \u001b[1m1s\u001b[0m 58ms/step - loss: 0.0015 - val_loss: 0.0024\n",
      "Epoch 111/200\n",
      "\u001b[1m21/21\u001b[0m \u001b[32m━━━━━━━━━━━━━━━━━━━━\u001b[0m\u001b[37m\u001b[0m \u001b[1m1s\u001b[0m 57ms/step - loss: 0.0013 - val_loss: 0.0014\n",
      "Epoch 112/200\n",
      "\u001b[1m21/21\u001b[0m \u001b[32m━━━━━━━━━━━━━━━━━━━━\u001b[0m\u001b[37m\u001b[0m \u001b[1m1s\u001b[0m 56ms/step - loss: 0.0012 - val_loss: 0.0026\n",
      "Epoch 113/200\n",
      "\u001b[1m21/21\u001b[0m \u001b[32m━━━━━━━━━━━━━━━━━━━━\u001b[0m\u001b[37m\u001b[0m \u001b[1m1s\u001b[0m 60ms/step - loss: 0.0012 - val_loss: 0.0012\n",
      "Epoch 114/200\n",
      "\u001b[1m21/21\u001b[0m \u001b[32m━━━━━━━━━━━━━━━━━━━━\u001b[0m\u001b[37m\u001b[0m \u001b[1m1s\u001b[0m 55ms/step - loss: 0.0012 - val_loss: 0.0020\n",
      "Epoch 115/200\n",
      "\u001b[1m21/21\u001b[0m \u001b[32m━━━━━━━━━━━━━━━━━━━━\u001b[0m\u001b[37m\u001b[0m \u001b[1m1s\u001b[0m 62ms/step - loss: 0.0013 - val_loss: 0.0012\n",
      "Epoch 116/200\n",
      "\u001b[1m21/21\u001b[0m \u001b[32m━━━━━━━━━━━━━━━━━━━━\u001b[0m\u001b[37m\u001b[0m \u001b[1m1s\u001b[0m 59ms/step - loss: 0.0013 - val_loss: 0.0012\n",
      "Epoch 117/200\n",
      "\u001b[1m21/21\u001b[0m \u001b[32m━━━━━━━━━━━━━━━━━━━━\u001b[0m\u001b[37m\u001b[0m \u001b[1m1s\u001b[0m 68ms/step - loss: 0.0013 - val_loss: 0.0020\n",
      "Epoch 118/200\n",
      "\u001b[1m21/21\u001b[0m \u001b[32m━━━━━━━━━━━━━━━━━━━━\u001b[0m\u001b[37m\u001b[0m \u001b[1m1s\u001b[0m 62ms/step - loss: 0.0013 - val_loss: 0.0013\n",
      "Epoch 119/200\n",
      "\u001b[1m21/21\u001b[0m \u001b[32m━━━━━━━━━━━━━━━━━━━━\u001b[0m\u001b[37m\u001b[0m \u001b[1m1s\u001b[0m 57ms/step - loss: 0.0012 - val_loss: 0.0018\n",
      "Epoch 120/200\n",
      "\u001b[1m21/21\u001b[0m \u001b[32m━━━━━━━━━━━━━━━━━━━━\u001b[0m\u001b[37m\u001b[0m \u001b[1m1s\u001b[0m 60ms/step - loss: 0.0012 - val_loss: 0.0016\n",
      "Epoch 121/200\n",
      "\u001b[1m21/21\u001b[0m \u001b[32m━━━━━━━━━━━━━━━━━━━━\u001b[0m\u001b[37m\u001b[0m \u001b[1m1s\u001b[0m 59ms/step - loss: 0.0012 - val_loss: 0.0013\n",
      "Epoch 122/200\n",
      "\u001b[1m21/21\u001b[0m \u001b[32m━━━━━━━━━━━━━━━━━━━━\u001b[0m\u001b[37m\u001b[0m \u001b[1m1s\u001b[0m 58ms/step - loss: 0.0014 - val_loss: 0.0013\n",
      "Epoch 123/200\n",
      "\u001b[1m21/21\u001b[0m \u001b[32m━━━━━━━━━━━━━━━━━━━━\u001b[0m\u001b[37m\u001b[0m \u001b[1m1s\u001b[0m 61ms/step - loss: 0.0012 - val_loss: 0.0014\n",
      "Epoch 124/200\n",
      "\u001b[1m21/21\u001b[0m \u001b[32m━━━━━━━━━━━━━━━━━━━━\u001b[0m\u001b[37m\u001b[0m \u001b[1m1s\u001b[0m 56ms/step - loss: 0.0012 - val_loss: 0.0021\n",
      "Epoch 125/200\n",
      "\u001b[1m21/21\u001b[0m \u001b[32m━━━━━━━━━━━━━━━━━━━━\u001b[0m\u001b[37m\u001b[0m \u001b[1m1s\u001b[0m 57ms/step - loss: 0.0014 - val_loss: 0.0020\n",
      "Epoch 126/200\n",
      "\u001b[1m21/21\u001b[0m \u001b[32m━━━━━━━━━━━━━━━━━━━━\u001b[0m\u001b[37m\u001b[0m \u001b[1m1s\u001b[0m 65ms/step - loss: 0.0012 - val_loss: 0.0012\n",
      "Epoch 127/200\n",
      "\u001b[1m21/21\u001b[0m \u001b[32m━━━━━━━━━━━━━━━━━━━━\u001b[0m\u001b[37m\u001b[0m \u001b[1m1s\u001b[0m 68ms/step - loss: 0.0012 - val_loss: 0.0013\n",
      "Epoch 128/200\n",
      "\u001b[1m21/21\u001b[0m \u001b[32m━━━━━━━━━━━━━━━━━━━━\u001b[0m\u001b[37m\u001b[0m \u001b[1m1s\u001b[0m 65ms/step - loss: 0.0013 - val_loss: 0.0014\n",
      "Epoch 129/200\n",
      "\u001b[1m21/21\u001b[0m \u001b[32m━━━━━━━━━━━━━━━━━━━━\u001b[0m\u001b[37m\u001b[0m \u001b[1m1s\u001b[0m 59ms/step - loss: 0.0013 - val_loss: 0.0014\n",
      "Epoch 130/200\n",
      "\u001b[1m21/21\u001b[0m \u001b[32m━━━━━━━━━━━━━━━━━━━━\u001b[0m\u001b[37m\u001b[0m \u001b[1m1s\u001b[0m 55ms/step - loss: 0.0011 - val_loss: 0.0014\n"
     ]
    }
   ],
   "source": [
    "early_stoppingg = EarlyStopping(\n",
    "    monitor='val_loss',\n",
    "    patience=15,\n",
    "    restore_best_weights=True,\n",
    "    mode='min'\n",
    ")\n",
    "model_checkpoint = ModelCheckpoint(\n",
    "    'best_model.keras',\n",
    "    monitor='val_loss',\n",
    "    save_best_only=True,\n",
    "    mode='min'\n",
    ")\n",
    "\n",
    "# Train the model\n",
    "lstm_history = lstm_model.fit(\n",
    "    X_train, y_train,\n",
    "    epochs=200,\n",
    "    batch_size=32,\n",
    "    validation_split=0.2,\n",
    "    callbacks=[early_stoppingg, model_checkpoint],\n",
    "    verbose=1\n",
    ")"
   ]
  },
  {
   "cell_type": "code",
   "execution_count": 15,
   "id": "6f2a3acf",
   "metadata": {
    "execution": {
     "iopub.execute_input": "2024-10-11T04:46:07.891774Z",
     "iopub.status.busy": "2024-10-11T04:46:07.891335Z",
     "iopub.status.idle": "2024-10-11T04:46:07.944026Z",
     "shell.execute_reply": "2024-10-11T04:46:07.942569Z"
    },
    "papermill": {
     "duration": 0.29454,
     "end_time": "2024-10-11T04:46:07.946818",
     "exception": false,
     "start_time": "2024-10-11T04:46:07.652278",
     "status": "completed"
    },
    "tags": []
   },
   "outputs": [
    {
     "name": "stderr",
     "output_type": "stream",
     "text": [
      "/opt/conda/lib/python3.10/site-packages/keras/src/layers/core/dense.py:87: UserWarning: Do not pass an `input_shape`/`input_dim` argument to a layer. When using Sequential models, prefer using an `Input(shape)` object as the first layer in the model instead.\n",
      "  super().__init__(activity_regularizer=activity_regularizer, **kwargs)\n"
     ]
    }
   ],
   "source": [
    "# Create and train ANN model\n",
    "ann_model = Sequential([\n",
    "    Dense(100, activation='relu', input_shape=(seq_length,)),\n",
    "    Dense(50, activation='relu'),\n",
    "    Dense(25, activation='relu'),\n",
    "    Dense(1)\n",
    "])"
   ]
  },
  {
   "cell_type": "code",
   "execution_count": 16,
   "id": "3ea03eba",
   "metadata": {
    "execution": {
     "iopub.execute_input": "2024-10-11T04:46:08.423060Z",
     "iopub.status.busy": "2024-10-11T04:46:08.422587Z",
     "iopub.status.idle": "2024-10-11T04:46:08.434676Z",
     "shell.execute_reply": "2024-10-11T04:46:08.433445Z"
    },
    "papermill": {
     "duration": 0.251974,
     "end_time": "2024-10-11T04:46:08.437512",
     "exception": false,
     "start_time": "2024-10-11T04:46:08.185538",
     "status": "completed"
    },
    "tags": []
   },
   "outputs": [],
   "source": [
    "ann_model.compile(optimizer='adam', loss='mse')"
   ]
  },
  {
   "cell_type": "code",
   "execution_count": 17,
   "id": "057f61f7",
   "metadata": {
    "execution": {
     "iopub.execute_input": "2024-10-11T04:46:08.920072Z",
     "iopub.status.busy": "2024-10-11T04:46:08.919583Z",
     "iopub.status.idle": "2024-10-11T04:46:15.627313Z",
     "shell.execute_reply": "2024-10-11T04:46:15.626081Z"
    },
    "papermill": {
     "duration": 6.95247,
     "end_time": "2024-10-11T04:46:15.630235",
     "exception": false,
     "start_time": "2024-10-11T04:46:08.677765",
     "status": "completed"
    },
    "tags": []
   },
   "outputs": [
    {
     "name": "stdout",
     "output_type": "stream",
     "text": [
      "Epoch 1/100\n",
      "\u001b[1m23/23\u001b[0m \u001b[32m━━━━━━━━━━━━━━━━━━━━\u001b[0m\u001b[37m\u001b[0m \u001b[1m2s\u001b[0m 11ms/step - loss: 0.0379 - val_loss: 0.0045\n",
      "Epoch 2/100\n",
      "\u001b[1m23/23\u001b[0m \u001b[32m━━━━━━━━━━━━━━━━━━━━\u001b[0m\u001b[37m\u001b[0m \u001b[1m0s\u001b[0m 4ms/step - loss: 0.0040 - val_loss: 0.0024\n",
      "Epoch 3/100\n",
      "\u001b[1m23/23\u001b[0m \u001b[32m━━━━━━━━━━━━━━━━━━━━\u001b[0m\u001b[37m\u001b[0m \u001b[1m0s\u001b[0m 3ms/step - loss: 0.0026 - val_loss: 0.0024\n",
      "Epoch 4/100\n",
      "\u001b[1m23/23\u001b[0m \u001b[32m━━━━━━━━━━━━━━━━━━━━\u001b[0m\u001b[37m\u001b[0m \u001b[1m0s\u001b[0m 3ms/step - loss: 0.0022 - val_loss: 0.0018\n",
      "Epoch 5/100\n",
      "\u001b[1m23/23\u001b[0m \u001b[32m━━━━━━━━━━━━━━━━━━━━\u001b[0m\u001b[37m\u001b[0m \u001b[1m0s\u001b[0m 3ms/step - loss: 0.0021 - val_loss: 0.0014\n",
      "Epoch 6/100\n",
      "\u001b[1m23/23\u001b[0m \u001b[32m━━━━━━━━━━━━━━━━━━━━\u001b[0m\u001b[37m\u001b[0m \u001b[1m0s\u001b[0m 3ms/step - loss: 0.0019 - val_loss: 0.0022\n",
      "Epoch 7/100\n",
      "\u001b[1m23/23\u001b[0m \u001b[32m━━━━━━━━━━━━━━━━━━━━\u001b[0m\u001b[37m\u001b[0m \u001b[1m0s\u001b[0m 3ms/step - loss: 0.0017 - val_loss: 0.0012\n",
      "Epoch 8/100\n",
      "\u001b[1m23/23\u001b[0m \u001b[32m━━━━━━━━━━━━━━━━━━━━\u001b[0m\u001b[37m\u001b[0m \u001b[1m0s\u001b[0m 3ms/step - loss: 0.0016 - val_loss: 0.0012\n",
      "Epoch 9/100\n",
      "\u001b[1m23/23\u001b[0m \u001b[32m━━━━━━━━━━━━━━━━━━━━\u001b[0m\u001b[37m\u001b[0m \u001b[1m0s\u001b[0m 3ms/step - loss: 0.0012 - val_loss: 0.0016\n",
      "Epoch 10/100\n",
      "\u001b[1m23/23\u001b[0m \u001b[32m━━━━━━━━━━━━━━━━━━━━\u001b[0m\u001b[37m\u001b[0m \u001b[1m0s\u001b[0m 3ms/step - loss: 0.0016 - val_loss: 0.0019\n",
      "Epoch 11/100\n",
      "\u001b[1m23/23\u001b[0m \u001b[32m━━━━━━━━━━━━━━━━━━━━\u001b[0m\u001b[37m\u001b[0m \u001b[1m0s\u001b[0m 3ms/step - loss: 0.0013 - val_loss: 0.0011\n",
      "Epoch 12/100\n",
      "\u001b[1m23/23\u001b[0m \u001b[32m━━━━━━━━━━━━━━━━━━━━\u001b[0m\u001b[37m\u001b[0m \u001b[1m0s\u001b[0m 4ms/step - loss: 0.0010 - val_loss: 0.0010\n",
      "Epoch 13/100\n",
      "\u001b[1m23/23\u001b[0m \u001b[32m━━━━━━━━━━━━━━━━━━━━\u001b[0m\u001b[37m\u001b[0m \u001b[1m0s\u001b[0m 4ms/step - loss: 0.0013 - val_loss: 0.0011\n",
      "Epoch 14/100\n",
      "\u001b[1m23/23\u001b[0m \u001b[32m━━━━━━━━━━━━━━━━━━━━\u001b[0m\u001b[37m\u001b[0m \u001b[1m0s\u001b[0m 3ms/step - loss: 0.0011 - val_loss: 0.0011\n",
      "Epoch 15/100\n",
      "\u001b[1m23/23\u001b[0m \u001b[32m━━━━━━━━━━━━━━━━━━━━\u001b[0m\u001b[37m\u001b[0m \u001b[1m0s\u001b[0m 3ms/step - loss: 8.9852e-04 - val_loss: 0.0013\n",
      "Epoch 16/100\n",
      "\u001b[1m23/23\u001b[0m \u001b[32m━━━━━━━━━━━━━━━━━━━━\u001b[0m\u001b[37m\u001b[0m \u001b[1m0s\u001b[0m 3ms/step - loss: 0.0011 - val_loss: 0.0013\n",
      "Epoch 17/100\n",
      "\u001b[1m23/23\u001b[0m \u001b[32m━━━━━━━━━━━━━━━━━━━━\u001b[0m\u001b[37m\u001b[0m \u001b[1m0s\u001b[0m 3ms/step - loss: 8.5711e-04 - val_loss: 9.0424e-04\n",
      "Epoch 18/100\n",
      "\u001b[1m23/23\u001b[0m \u001b[32m━━━━━━━━━━━━━━━━━━━━\u001b[0m\u001b[37m\u001b[0m \u001b[1m0s\u001b[0m 3ms/step - loss: 7.8648e-04 - val_loss: 0.0023\n",
      "Epoch 19/100\n",
      "\u001b[1m23/23\u001b[0m \u001b[32m━━━━━━━━━━━━━━━━━━━━\u001b[0m\u001b[37m\u001b[0m \u001b[1m0s\u001b[0m 3ms/step - loss: 0.0011 - val_loss: 0.0019\n",
      "Epoch 20/100\n",
      "\u001b[1m23/23\u001b[0m \u001b[32m━━━━━━━━━━━━━━━━━━━━\u001b[0m\u001b[37m\u001b[0m \u001b[1m0s\u001b[0m 3ms/step - loss: 0.0011 - val_loss: 0.0016\n",
      "Epoch 21/100\n",
      "\u001b[1m23/23\u001b[0m \u001b[32m━━━━━━━━━━━━━━━━━━━━\u001b[0m\u001b[37m\u001b[0m \u001b[1m0s\u001b[0m 3ms/step - loss: 8.0154e-04 - val_loss: 6.5003e-04\n",
      "Epoch 22/100\n",
      "\u001b[1m23/23\u001b[0m \u001b[32m━━━━━━━━━━━━━━━━━━━━\u001b[0m\u001b[37m\u001b[0m \u001b[1m0s\u001b[0m 3ms/step - loss: 8.4934e-04 - val_loss: 7.0236e-04\n",
      "Epoch 23/100\n",
      "\u001b[1m23/23\u001b[0m \u001b[32m━━━━━━━━━━━━━━━━━━━━\u001b[0m\u001b[37m\u001b[0m \u001b[1m0s\u001b[0m 3ms/step - loss: 7.9052e-04 - val_loss: 0.0018\n",
      "Epoch 24/100\n",
      "\u001b[1m23/23\u001b[0m \u001b[32m━━━━━━━━━━━━━━━━━━━━\u001b[0m\u001b[37m\u001b[0m \u001b[1m0s\u001b[0m 3ms/step - loss: 8.3788e-04 - val_loss: 9.1071e-04\n",
      "Epoch 25/100\n",
      "\u001b[1m23/23\u001b[0m \u001b[32m━━━━━━━━━━━━━━━━━━━━\u001b[0m\u001b[37m\u001b[0m \u001b[1m0s\u001b[0m 3ms/step - loss: 7.5146e-04 - val_loss: 8.0218e-04\n",
      "Epoch 26/100\n",
      "\u001b[1m23/23\u001b[0m \u001b[32m━━━━━━━━━━━━━━━━━━━━\u001b[0m\u001b[37m\u001b[0m \u001b[1m0s\u001b[0m 3ms/step - loss: 0.0012 - val_loss: 0.0015\n",
      "Epoch 27/100\n",
      "\u001b[1m23/23\u001b[0m \u001b[32m━━━━━━━━━━━━━━━━━━━━\u001b[0m\u001b[37m\u001b[0m \u001b[1m0s\u001b[0m 3ms/step - loss: 7.8344e-04 - val_loss: 7.9214e-04\n",
      "Epoch 28/100\n",
      "\u001b[1m23/23\u001b[0m \u001b[32m━━━━━━━━━━━━━━━━━━━━\u001b[0m\u001b[37m\u001b[0m \u001b[1m0s\u001b[0m 3ms/step - loss: 7.9858e-04 - val_loss: 6.4012e-04\n",
      "Epoch 29/100\n",
      "\u001b[1m23/23\u001b[0m \u001b[32m━━━━━━━━━━━━━━━━━━━━\u001b[0m\u001b[37m\u001b[0m \u001b[1m0s\u001b[0m 3ms/step - loss: 7.6358e-04 - val_loss: 6.0956e-04\n",
      "Epoch 30/100\n",
      "\u001b[1m23/23\u001b[0m \u001b[32m━━━━━━━━━━━━━━━━━━━━\u001b[0m\u001b[37m\u001b[0m \u001b[1m0s\u001b[0m 3ms/step - loss: 7.9899e-04 - val_loss: 0.0015\n",
      "Epoch 31/100\n",
      "\u001b[1m23/23\u001b[0m \u001b[32m━━━━━━━━━━━━━━━━━━━━\u001b[0m\u001b[37m\u001b[0m \u001b[1m0s\u001b[0m 3ms/step - loss: 9.6502e-04 - val_loss: 6.5406e-04\n",
      "Epoch 32/100\n",
      "\u001b[1m23/23\u001b[0m \u001b[32m━━━━━━━━━━━━━━━━━━━━\u001b[0m\u001b[37m\u001b[0m \u001b[1m0s\u001b[0m 3ms/step - loss: 7.1589e-04 - val_loss: 0.0029\n",
      "Epoch 33/100\n",
      "\u001b[1m23/23\u001b[0m \u001b[32m━━━━━━━━━━━━━━━━━━━━\u001b[0m\u001b[37m\u001b[0m \u001b[1m0s\u001b[0m 3ms/step - loss: 8.4504e-04 - val_loss: 6.4132e-04\n",
      "Epoch 34/100\n",
      "\u001b[1m23/23\u001b[0m \u001b[32m━━━━━━━━━━━━━━━━━━━━\u001b[0m\u001b[37m\u001b[0m \u001b[1m0s\u001b[0m 3ms/step - loss: 6.2492e-04 - val_loss: 6.4119e-04\n",
      "Epoch 35/100\n",
      "\u001b[1m23/23\u001b[0m \u001b[32m━━━━━━━━━━━━━━━━━━━━\u001b[0m\u001b[37m\u001b[0m \u001b[1m0s\u001b[0m 3ms/step - loss: 6.5323e-04 - val_loss: 8.7158e-04\n",
      "Epoch 36/100\n",
      "\u001b[1m23/23\u001b[0m \u001b[32m━━━━━━━━━━━━━━━━━━━━\u001b[0m\u001b[37m\u001b[0m \u001b[1m0s\u001b[0m 3ms/step - loss: 7.6045e-04 - val_loss: 0.0033\n",
      "Epoch 37/100\n",
      "\u001b[1m23/23\u001b[0m \u001b[32m━━━━━━━━━━━━━━━━━━━━\u001b[0m\u001b[37m\u001b[0m \u001b[1m0s\u001b[0m 3ms/step - loss: 0.0010 - val_loss: 5.8167e-04\n",
      "Epoch 38/100\n",
      "\u001b[1m23/23\u001b[0m \u001b[32m━━━━━━━━━━━━━━━━━━━━\u001b[0m\u001b[37m\u001b[0m \u001b[1m0s\u001b[0m 3ms/step - loss: 8.6519e-04 - val_loss: 9.6278e-04\n",
      "Epoch 39/100\n",
      "\u001b[1m23/23\u001b[0m \u001b[32m━━━━━━━━━━━━━━━━━━━━\u001b[0m\u001b[37m\u001b[0m \u001b[1m0s\u001b[0m 3ms/step - loss: 7.6580e-04 - val_loss: 6.0487e-04\n",
      "Epoch 40/100\n",
      "\u001b[1m23/23\u001b[0m \u001b[32m━━━━━━━━━━━━━━━━━━━━\u001b[0m\u001b[37m\u001b[0m \u001b[1m0s\u001b[0m 3ms/step - loss: 6.6083e-04 - val_loss: 5.1927e-04\n",
      "Epoch 41/100\n",
      "\u001b[1m23/23\u001b[0m \u001b[32m━━━━━━━━━━━━━━━━━━━━\u001b[0m\u001b[37m\u001b[0m \u001b[1m0s\u001b[0m 3ms/step - loss: 5.7246e-04 - val_loss: 6.2632e-04\n",
      "Epoch 42/100\n",
      "\u001b[1m23/23\u001b[0m \u001b[32m━━━━━━━━━━━━━━━━━━━━\u001b[0m\u001b[37m\u001b[0m \u001b[1m0s\u001b[0m 3ms/step - loss: 6.3370e-04 - val_loss: 8.7059e-04\n",
      "Epoch 43/100\n",
      "\u001b[1m23/23\u001b[0m \u001b[32m━━━━━━━━━━━━━━━━━━━━\u001b[0m\u001b[37m\u001b[0m \u001b[1m0s\u001b[0m 3ms/step - loss: 7.1912e-04 - val_loss: 5.9559e-04\n",
      "Epoch 44/100\n",
      "\u001b[1m23/23\u001b[0m \u001b[32m━━━━━━━━━━━━━━━━━━━━\u001b[0m\u001b[37m\u001b[0m \u001b[1m0s\u001b[0m 3ms/step - loss: 6.8229e-04 - val_loss: 0.0011\n",
      "Epoch 45/100\n",
      "\u001b[1m23/23\u001b[0m \u001b[32m━━━━━━━━━━━━━━━━━━━━\u001b[0m\u001b[37m\u001b[0m \u001b[1m0s\u001b[0m 3ms/step - loss: 7.3075e-04 - val_loss: 0.0017\n",
      "Epoch 46/100\n",
      "\u001b[1m23/23\u001b[0m \u001b[32m━━━━━━━━━━━━━━━━━━━━\u001b[0m\u001b[37m\u001b[0m \u001b[1m0s\u001b[0m 3ms/step - loss: 7.7959e-04 - val_loss: 7.1033e-04\n",
      "Epoch 47/100\n",
      "\u001b[1m23/23\u001b[0m \u001b[32m━━━━━━━━━━━━━━━━━━━━\u001b[0m\u001b[37m\u001b[0m \u001b[1m0s\u001b[0m 3ms/step - loss: 6.4868e-04 - val_loss: 5.7337e-04\n",
      "Epoch 48/100\n",
      "\u001b[1m23/23\u001b[0m \u001b[32m━━━━━━━━━━━━━━━━━━━━\u001b[0m\u001b[37m\u001b[0m \u001b[1m0s\u001b[0m 3ms/step - loss: 6.5185e-04 - val_loss: 6.6989e-04\n",
      "Epoch 49/100\n",
      "\u001b[1m23/23\u001b[0m \u001b[32m━━━━━━━━━━━━━━━━━━━━\u001b[0m\u001b[37m\u001b[0m \u001b[1m0s\u001b[0m 3ms/step - loss: 7.9248e-04 - val_loss: 6.6833e-04\n",
      "Epoch 50/100\n",
      "\u001b[1m23/23\u001b[0m \u001b[32m━━━━━━━━━━━━━━━━━━━━\u001b[0m\u001b[37m\u001b[0m \u001b[1m0s\u001b[0m 3ms/step - loss: 6.1455e-04 - val_loss: 0.0019\n"
     ]
    }
   ],
   "source": [
    "early_stopping = EarlyStopping(monitor='val_loss', patience=10, restore_best_weights=True)\n",
    "ann_history = ann_model.fit(\n",
    "    X_train_ann, y_train,\n",
    "    epochs=100,\n",
    "    batch_size=32,\n",
    "    validation_split=0.1,\n",
    "    callbacks=[early_stopping],\n",
    "    verbose=1\n",
    ")"
   ]
  },
  {
   "cell_type": "code",
   "execution_count": 18,
   "id": "a3de3c9a",
   "metadata": {
    "execution": {
     "iopub.execute_input": "2024-10-11T04:46:16.137391Z",
     "iopub.status.busy": "2024-10-11T04:46:16.136877Z",
     "iopub.status.idle": "2024-10-11T04:46:16.459623Z",
     "shell.execute_reply": "2024-10-11T04:46:16.458207Z"
    },
    "papermill": {
     "duration": 0.58039,
     "end_time": "2024-10-11T04:46:16.462595",
     "exception": false,
     "start_time": "2024-10-11T04:46:15.882205",
     "status": "completed"
    },
    "tags": []
   },
   "outputs": [
    {
     "name": "stdout",
     "output_type": "stream",
     "text": [
      "\u001b[1m26/26\u001b[0m \u001b[32m━━━━━━━━━━━━━━━━━━━━\u001b[0m\u001b[37m\u001b[0m \u001b[1m0s\u001b[0m 3ms/step\n",
      "\u001b[1m5/5\u001b[0m \u001b[32m━━━━━━━━━━━━━━━━━━━━\u001b[0m\u001b[37m\u001b[0m \u001b[1m0s\u001b[0m 2ms/step \n"
     ]
    }
   ],
   "source": [
    "# Make predictions\n",
    "ann_train_predict = ann_model.predict(X_train_ann)\n",
    "ann_test_predict = ann_model.predict(X_test_ann)"
   ]
  },
  {
   "cell_type": "code",
   "execution_count": 19,
   "id": "029ca018",
   "metadata": {
    "execution": {
     "iopub.execute_input": "2024-10-11T04:46:16.971782Z",
     "iopub.status.busy": "2024-10-11T04:46:16.971344Z",
     "iopub.status.idle": "2024-10-11T04:46:18.349751Z",
     "shell.execute_reply": "2024-10-11T04:46:18.348574Z"
    },
    "papermill": {
     "duration": 1.638005,
     "end_time": "2024-10-11T04:46:18.352580",
     "exception": false,
     "start_time": "2024-10-11T04:46:16.714575",
     "status": "completed"
    },
    "tags": []
   },
   "outputs": [
    {
     "name": "stdout",
     "output_type": "stream",
     "text": [
      "\u001b[1m26/26\u001b[0m \u001b[32m━━━━━━━━━━━━━━━━━━━━\u001b[0m\u001b[37m\u001b[0m \u001b[1m1s\u001b[0m 32ms/step\n",
      "\u001b[1m5/5\u001b[0m \u001b[32m━━━━━━━━━━━━━━━━━━━━\u001b[0m\u001b[37m\u001b[0m \u001b[1m0s\u001b[0m 18ms/step\n"
     ]
    }
   ],
   "source": [
    "# Make predictions\n",
    "lstm_train_predict = lstm_model.predict(X_train)\n",
    "lstm_test_predict = lstm_model.predict(X_test)"
   ]
  },
  {
   "cell_type": "code",
   "execution_count": 20,
   "id": "60e3519d",
   "metadata": {
    "execution": {
     "iopub.execute_input": "2024-10-11T04:46:18.859876Z",
     "iopub.status.busy": "2024-10-11T04:46:18.859388Z",
     "iopub.status.idle": "2024-10-11T04:46:18.868011Z",
     "shell.execute_reply": "2024-10-11T04:46:18.866933Z"
    },
    "papermill": {
     "duration": 0.265174,
     "end_time": "2024-10-11T04:46:18.870468",
     "exception": false,
     "start_time": "2024-10-11T04:46:18.605294",
     "status": "completed"
    },
    "tags": []
   },
   "outputs": [],
   "source": [
    "# Inverse transform predictions\n",
    "ann_train_predict = scaler.inverse_transform(ann_train_predict)\n",
    "ann_test_predict = scaler.inverse_transform(ann_test_predict)\n",
    "lstm_train_predict = scaler.inverse_transform(lstm_train_predict)\n",
    "lstm_test_predict = scaler.inverse_transform(lstm_test_predict)\n",
    "y_train_inv = scaler.inverse_transform(y_train)\n",
    "y_test_inv = scaler.inverse_transform(y_test)"
   ]
  },
  {
   "cell_type": "code",
   "execution_count": 21,
   "id": "41db9c7c",
   "metadata": {
    "execution": {
     "iopub.execute_input": "2024-10-11T04:46:19.439676Z",
     "iopub.status.busy": "2024-10-11T04:46:19.439197Z",
     "iopub.status.idle": "2024-10-11T04:46:19.446005Z",
     "shell.execute_reply": "2024-10-11T04:46:19.444605Z"
    },
    "papermill": {
     "duration": 0.265722,
     "end_time": "2024-10-11T04:46:19.448600",
     "exception": false,
     "start_time": "2024-10-11T04:46:19.182878",
     "status": "completed"
    },
    "tags": []
   },
   "outputs": [],
   "source": [
    "# Calculate metrics\n",
    "def calculate_metrics(y_true, y_pred):\n",
    "    r2 = r2_score(y_true, y_pred)\n",
    "    rmse = np.sqrt(mean_squared_error(y_true, y_pred))\n",
    "    return r2, rmse"
   ]
  },
  {
   "cell_type": "code",
   "execution_count": 22,
   "id": "97bc0eba",
   "metadata": {
    "execution": {
     "iopub.execute_input": "2024-10-11T04:46:19.957264Z",
     "iopub.status.busy": "2024-10-11T04:46:19.956762Z",
     "iopub.status.idle": "2024-10-11T04:46:19.968027Z",
     "shell.execute_reply": "2024-10-11T04:46:19.966602Z"
    },
    "papermill": {
     "duration": 0.270957,
     "end_time": "2024-10-11T04:46:19.970881",
     "exception": false,
     "start_time": "2024-10-11T04:46:19.699924",
     "status": "completed"
    },
    "tags": []
   },
   "outputs": [],
   "source": [
    "ann_train_r2, ann_train_rmse = calculate_metrics(y_train_inv, ann_train_predict)\n",
    "ann_test_r2, ann_test_rmse = calculate_metrics(y_test_inv, ann_test_predict)\n",
    "lstm_train_r2, lstm_train_rmse = calculate_metrics(y_train_inv, lstm_train_predict)\n",
    "lstm_test_r2, lstm_test_rmse = calculate_metrics(y_test_inv, lstm_test_predict)"
   ]
  },
  {
   "cell_type": "code",
   "execution_count": 23,
   "id": "605d1a6a",
   "metadata": {
    "execution": {
     "iopub.execute_input": "2024-10-11T04:46:20.488253Z",
     "iopub.status.busy": "2024-10-11T04:46:20.487735Z",
     "iopub.status.idle": "2024-10-11T04:46:20.495745Z",
     "shell.execute_reply": "2024-10-11T04:46:20.494436Z"
    },
    "papermill": {
     "duration": 0.274867,
     "end_time": "2024-10-11T04:46:20.498843",
     "exception": false,
     "start_time": "2024-10-11T04:46:20.223976",
     "status": "completed"
    },
    "tags": []
   },
   "outputs": [
    {
     "name": "stdout",
     "output_type": "stream",
     "text": [
      "ANN Metrics:\n",
      "Train R2: 0.9841, Train RMSE: 11.0714\n",
      "Test R2: 0.9183, Test RMSE: 20.9734\n",
      "\n",
      "LSTM Metrics:\n",
      "Train R2: 0.9685, Train RMSE: 15.5980\n",
      "Test R2: 0.8144, Test RMSE: 31.6039\n"
     ]
    }
   ],
   "source": [
    "print(\"ANN Metrics:\")\n",
    "print(f\"Train R2: {ann_train_r2:.4f}, Train RMSE: {ann_train_rmse:.4f}\")\n",
    "print(f\"Test R2: {ann_test_r2:.4f}, Test RMSE: {ann_test_rmse:.4f}\")\n",
    "print(\"\\nLSTM Metrics:\")\n",
    "print(f\"Train R2: {lstm_train_r2:.4f}, Train RMSE: {lstm_train_rmse:.4f}\")\n",
    "print(f\"Test R2: {lstm_test_r2:.4f}, Test RMSE: {lstm_test_rmse:.4f}\")"
   ]
  },
  {
   "cell_type": "code",
   "execution_count": 24,
   "id": "a98ce56e",
   "metadata": {
    "execution": {
     "iopub.execute_input": "2024-10-11T04:46:21.012289Z",
     "iopub.status.busy": "2024-10-11T04:46:21.011795Z",
     "iopub.status.idle": "2024-10-11T04:46:21.542877Z",
     "shell.execute_reply": "2024-10-11T04:46:21.541175Z"
    },
    "papermill": {
     "duration": 0.790252,
     "end_time": "2024-10-11T04:46:21.546520",
     "exception": false,
     "start_time": "2024-10-11T04:46:20.756268",
     "status": "completed"
    },
    "tags": []
   },
   "outputs": [
    {
     "data": {
      "image/png": "[encoded data removed]",
      "text/plain": [
       "<Figure size 1500x600 with 1 Axes>"
      ]
     },
     "metadata": {},
     "output_type": "display_data"
    }
   ],
   "source": [
    "# Plot predictions\n",
    "plt.figure(figsize=(15, 6))\n",
    "plt.plot(df.index[seq_length+train_size:], y_test_inv, label='Actual')\n",
    "plt.plot(df.index[seq_length+train_size:], ann_test_predict, label='ANN Prediction')\n",
    "plt.plot(df.index[seq_length+train_size:], lstm_test_predict, label='LSTM Prediction')\n",
    "plt.title('Stock Price Prediction Comparison')\n",
    "plt.xlabel('Date')\n",
    "plt.ylabel('Price')\n",
    "plt.legend()\n",
    "plt.show()"
   ]
  },
  {
   "cell_type": "code",
   "execution_count": 25,
   "id": "e04a79b6",
   "metadata": {
    "execution": {
     "iopub.execute_input": "2024-10-11T04:46:22.071958Z",
     "iopub.status.busy": "2024-10-11T04:46:22.071516Z",
     "iopub.status.idle": "2024-10-11T04:46:22.779766Z",
     "shell.execute_reply": "2024-10-11T04:46:22.778387Z"
    },
    "papermill": {
     "duration": 0.974531,
     "end_time": "2024-10-11T04:46:22.783069",
     "exception": false,
     "start_time": "2024-10-11T04:46:21.808538",
     "status": "completed"
    },
    "tags": []
   },
   "outputs": [
    {
     "data": {
      "image/png": "[encoded data removed]",
      "text/plain": [
       "<Figure size 1500x600 with 2 Axes>"
      ]
     },
     "metadata": {},
     "output_type": "display_data"
    }
   ],
   "source": [
    "# Plot training history comparison\n",
    "plt.figure(figsize=(15, 6))\n",
    "plt.subplot(1, 2, 1)\n",
    "plt.plot(ann_history.history['loss'], label='Training Loss')\n",
    "plt.plot(ann_history.history['val_loss'], label='Validation Loss')\n",
    "plt.title('ANN Model Loss')\n",
    "plt.xlabel('Epoch')\n",
    "plt.ylabel('Loss')\n",
    "plt.legend()\n",
    "\n",
    "plt.subplot(1, 2, 2)\n",
    "plt.plot(lstm_history.history['loss'], label='Training Loss')\n",
    "plt.plot(lstm_history.history['val_loss'], label='Validation Loss')\n",
    "plt.title('LSTM Model Loss')\n",
    "plt.xlabel('Epoch')\n",
    "plt.ylabel('Loss')\n",
    "plt.legend()\n",
    "plt.tight_layout()\n",
    "plt.show()"
   ]
  },
  {
   "cell_type": "code",
   "execution_count": 26,
   "id": "74dd459f",
   "metadata": {
    "execution": {
     "iopub.execute_input": "2024-10-11T04:46:23.317350Z",
     "iopub.status.busy": "2024-10-11T04:46:23.316815Z",
     "iopub.status.idle": "2024-10-11T04:46:23.509985Z",
     "shell.execute_reply": "2024-10-11T04:46:23.508422Z"
    },
    "papermill": {
     "duration": 0.466361,
     "end_time": "2024-10-11T04:46:23.512963",
     "exception": false,
     "start_time": "2024-10-11T04:46:23.046602",
     "status": "completed"
    },
    "tags": []
   },
   "outputs": [
    {
     "name": "stdout",
     "output_type": "stream",
     "text": [
      "\u001b[1m1/1\u001b[0m \u001b[32m━━━━━━━━━━━━━━━━━━━━\u001b[0m\u001b[37m\u001b[0m \u001b[1m0s\u001b[0m 25ms/step\n",
      "\u001b[1m1/1\u001b[0m \u001b[32m━━━━━━━━━━━━━━━━━━━━\u001b[0m\u001b[37m\u001b[0m \u001b[1m0s\u001b[0m 30ms/step\n",
      "ANN Predicted next day price: 409.89\n",
      "LSTM Predicted next day price: 452.46\n"
     ]
    }
   ],
   "source": [
    "#Future predictions\n",
    "last_sequence = scaled_data[-seq_length:]\n",
    "last_sequence_flat = last_sequence.reshape(1, seq_length)\n",
    "last_sequence_3d = last_sequence.reshape(1, seq_length, 1)\n",
    "\n",
    "ann_next_day = scaler.inverse_transform(ann_model.predict(last_sequence_flat))[0][0]\n",
    "lstm_next_day = scaler.inverse_transform(lstm_model.predict(last_sequence_3d))[0][0]\n",
    "\n",
    "print(f\"ANN Predicted next day price: {ann_next_day:.2f}\")\n",
    "print(f\"LSTM Predicted next day price: {lstm_next_day:.2f}\")"
   ]
  }
 ],
 "metadata": {
  "kaggle": {
   "accelerator": "none",
   "dataSources": [],
   "dockerImageVersionId": 30786,
   "isGpuEnabled": false,
   "isInternetEnabled": true,
   "language": "python",
   "sourceType": "notebook"
  },
  "kernelspec": {
   "display_name": "Python 3",
   "language": "python",
   "name": "python3"
  },
  "language_info": {
   "codemirror_mode": {
    "name": "ipython",
    "version": 3
   },
   "file_extension": ".py",
   "mimetype": "text/x-python",
   "name": "python",
   "nbconvert_exporter": "python",
   "pygments_lexer": "ipython3",
   "version": "3.10.14"
  },
  "papermill": {
   "default_parameters": {},
   "duration": 297.49168,
   "end_time": "2024-10-11T04:46:25.867344",
   "environment_variables": {},
   "exception": null,
   "input_path": "__notebook__.ipynb",
   "output_path": "__notebook__.ipynb",
   "parameters": {},
   "start_time": "2024-10-11T04:41:28.375664",
   "version": "2.6.0"
  }
 },
 "nbformat": 4,
 "nbformat_minor": 5
}
